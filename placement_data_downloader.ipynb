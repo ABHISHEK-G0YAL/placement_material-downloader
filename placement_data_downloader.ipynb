{
  "nbformat": 4,
  "nbformat_minor": 0,
  "metadata": {
    "colab": {
      "name": "placement_data_downloader.ipynb",
      "provenance": [],
      "collapsed_sections": []
    },
    "kernelspec": {
      "name": "python3",
      "display_name": "Python 3"
    }
  },
  "cells": [
    {
      "cell_type": "code",
      "metadata": {
        "id": "p6wM55Ou7S51",
        "colab_type": "code",
        "colab": {}
      },
      "source": [
        "from google.colab import drive\n",
        "import os\n",
        "\n",
        "root_path = '/content/gdrive/My Drive/Placement Material/'\n",
        "drive.mount('/content/gdrive')\n",
        "os.makedirs(root_path, exist_ok=True)\n",
        "os.chdir(root_path)"
      ],
      "execution_count": null,
      "outputs": []
    },
    {
      "cell_type": "code",
      "metadata": {
        "id": "qre1ZXD-Cmwd",
        "colab_type": "code",
        "colab": {}
      },
      "source": [
        "import time\n",
        "import json\n",
        "import requests"
      ],
      "execution_count": null,
      "outputs": []
    },
    {
      "cell_type": "code",
      "metadata": {
        "id": "acc3fSazC_-M",
        "colab_type": "code",
        "colab": {}
      },
      "source": [
        "def dwnld_files_traversing_json_recursively(root):\n",
        "    for key in root:\n",
        "        if type(root[key]) is dict:\n",
        "            os.makedirs(key, exist_ok=True)\n",
        "            os.chdir(key)\n",
        "            dwnld_files_traversing_json_recursively(root[key])\n",
        "            os.chdir('..')\n",
        "        else:\n",
        "            link, downloaded = root[key]\n",
        "            if not downloaded:\n",
        "                print(f'{os.getcwd()}/{key}')\n",
        "                r = requests.get(link, allow_redirects=True)\n",
        "                open(key, 'wb').write(r.content)\n",
        "                root[key] = (link, True)\n",
        "                save_progress()\n",
        "            else:\n",
        "                print(f'✓ {os.getcwd()}/{key}')"
      ],
      "execution_count": null,
      "outputs": []
    },
    {
      "cell_type": "code",
      "metadata": {
        "id": "3e9ajL5iI7nC",
        "colab_type": "code",
        "colab": {}
      },
      "source": [
        "def save_progress():\n",
        "    cwd = os.getcwd()\n",
        "    os.chdir(root_path)\n",
        "    with open('root.json', 'w') as f:\n",
        "        json.dump(root, f, indent=4)\n",
        "    os.chdir(cwd)"
      ],
      "execution_count": null,
      "outputs": []
    },
    {
      "cell_type": "code",
      "metadata": {
        "id": "cXvehuDiCKfU",
        "colab_type": "code",
        "colab": {}
      },
      "source": [
        "if __name__ == '__main__':\n",
        "    with open('root.json') as f:\n",
        "        root = json.load(f)\n",
        "    dwnld_files_traversing_json_recursively(root)"
      ],
      "execution_count": null,
      "outputs": []
    }
  ]
}